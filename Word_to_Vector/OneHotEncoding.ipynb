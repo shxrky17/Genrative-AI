{
 "cells": [
  {
   "cell_type": "code",
   "execution_count": 6,
   "metadata": {},
   "outputs": [
    {
     "name": "stdout",
     "output_type": "stream",
     "text": [
      "Unique Categories: ['bird', 'cat', 'dog']\n",
      "One-Hot Encoded Matrix:\n",
      "[[0. 1. 0.]\n",
      " [0. 0. 1.]\n",
      " [1. 0. 0.]\n",
      " [0. 1. 0.]\n",
      " [1. 0. 0.]\n",
      " [0. 0. 1.]]\n"
     ]
    }
   ],
   "source": [
    "import numpy as np\n",
    "\n",
    "# Example categories\n",
    "categories = ['cat', 'dog', 'bird', 'cat', 'bird', 'dog']\n",
    "\n",
    "# Get unique categories and map each to an index\n",
    "unique_categories = sorted(set(categories))\n",
    "category_to_index = {category: idx for idx, category in enumerate(unique_categories)}\n",
    "\n",
    "# One-hot encoding\n",
    "one_hot_encoded = np.zeros((len(categories), len(unique_categories)))\n",
    "\n",
    "for i, category in enumerate(categories):\n",
    "    index = category_to_index[category]\n",
    "    one_hot_encoded[i, index] = 1\n",
    "\n",
    "print(\"Unique Categories:\", unique_categories)\n",
    "print(\"One-Hot Encoded Matrix:\")\n",
    "print(one_hot_encoded)\n"
   ]
  },
  {
   "cell_type": "code",
   "execution_count": 5,
   "metadata": {},
   "outputs": [
    {
     "name": "stdout",
     "output_type": "stream",
     "text": [
      "[[0. 1. 0.]\n",
      " [0. 0. 1.]\n",
      " [1. 0. 0.]\n",
      " [0. 1. 0.]\n",
      " [1. 0. 0.]\n",
      " [0. 0. 1.]]\n"
     ]
    }
   ],
   "source": [
    "print(one_hot_encoded)"
   ]
  },
  {
   "cell_type": "code",
   "execution_count": null,
   "metadata": {},
   "outputs": [],
   "source": []
  }
 ],
 "metadata": {
  "kernelspec": {
   "display_name": "hello",
   "language": "python",
   "name": "python3"
  },
  "language_info": {
   "codemirror_mode": {
    "name": "ipython",
    "version": 3
   },
   "file_extension": ".py",
   "mimetype": "text/x-python",
   "name": "python",
   "nbconvert_exporter": "python",
   "pygments_lexer": "ipython3",
   "version": "3.12.0"
  }
 },
 "nbformat": 4,
 "nbformat_minor": 2
}
