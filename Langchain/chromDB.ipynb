{
 "cells": [
  {
   "cell_type": "code",
   "execution_count": 3,
   "metadata": {},
   "outputs": [],
   "source": [
    "from langchain_chroma import Chroma"
   ]
  },
  {
   "cell_type": "code",
   "execution_count": 5,
   "metadata": {},
   "outputs": [],
   "source": [
    "from langchain_community.document_loaders import TextLoader\n",
    "from langchain_community.vectorstores import FAISS\n",
    "from langchain_community.embeddings import OllamaEmbeddings\n",
    "from langchain_text_splitters import RecursiveCharacterTextSplitter"
   ]
  },
  {
   "cell_type": "code",
   "execution_count": 6,
   "metadata": {},
   "outputs": [
    {
     "data": {
      "text/plain": [
       "[Document(metadata={'source': 'speech.txt'}, page_content=\"I have three visions for India. In 3000 years of our history people from all over the world have come and invaded us, captured our lands, conquered our minds. From Alexander onwards the Greeks, the Turks, the Moguls, the Portuguese, the British, the French, the Dutch, all of them came and looted us, took over what was ours. Yet we have not done this to any other nation.\\n\\nWe have not conquered anyone. We have not grabbed their land, their culture and their history and tried to enforce our way of life on them. Why? Because we respect the freedom of others. That is why my FIRST VISION is that of FREEDOM. I believe that India got its first vision of this in 1857, when we started the war of Independence. It is this freedom that we must protect and nurture and build on. If we are not free, no one will respect us.\\n\\nWe have 10 percent growth rate in most areas. Our poverty levels are falling. Our achievements are being globally recognised today. Yet we lack the self-confidence to see ourselves as a developed nation, self-reliant and self-assured. Isn’t this incorrect? MY SECOND VISION for India is DEVELOPMENT. For fifty years we have been a developing nation. It is time we see ourselves as a developed nation. We are among top five nations in the world in terms of GDP.\\n\\nI have a THIRD VISION. India must stand up to the world. Because I believe that unless India stands up to the world, no one will respect us. Only strength respects strength. We must be strong not only as a military power but also as an economic power. Both must go hand-in-hand. My good fortune was to have worked with three great minds. Dr.Vikram Sarabhai, of the Dept. of Space, Professor Satish Dhawan, who succeeded him and Dr. Brahm Prakash, father of nuclear material. I was lucky to have worked with all three of them closely and consider this the great opportunity of my life.\\n\\nI was in Hyderabad giving this lecture, when a 14 year-old girl asked me for my autograph. I asked her what her goal in life is. She replied: I want to live in a developed India. For her, you and I will have to build this developed India. You must proclaim India is not an underdeveloped nation; it is a highly developed nation.\\n\\nYou say that our government is inefficient. You say that our laws are too old. You say that the municipality does not pick up the garbage. You say that the phones don’t work, the railways are a joke, the airline is the worst in the world, and mails never reach their destination. You say that our country has been fed to the dogs and is the absolute pits. You say, say and say. What do you do about it?\\n\\nDear Indians, I am echoing J.F.Kennedy’s words to his fellow Americans to relate to Indians ……. “ASK WHAT WE CAN DO FOR INDIA AND DO WHAT HAS TO BE DONE TO MAKE INDIA WHAT AMERICA AND OTHER WESTERN COUNTRIES ARE TODAY.”\\n\\nSummary\\n'My Vision for India' is a speech delivered by India’s former President, Dr. A.P.J Abdul Kalam, in which he describes his three visions for India if it has to enter the comity of developed nations. He tries to make people realise their duties and motivate them to build a stronger India.\\n\\nFirst vision: He recalls how India has, time and again, been looted by invaders. India, on the other hand, has never invaded any country because it respects the freedom of others. Modern India’s First War of Independence was fought in 1857. Having subsequently achieved independence, we need to protect this freedom, without which no one will respect us.\\n\\nSecond vision: India is growing economically and the rate of poverty is declining. The 10% GDP growth rate is a healthy sign. But Dr. Kalam observed that Indians have failed to see themselves as a group of self-reliant people. He, however, wants to see India as a developed and not just a developing nation.\\n\\nThird vision: To see India strong, both economically and militarily, because people tend to respect those who are strong.\\n\\nFinally, India could become as great a nation as the United States of America or any European country if its people stop criticising their own government and other institutions. A change in attitude is required. Instead of complaining, people should participate in the process of development by resolving problems on their own\")]"
      ]
     },
     "execution_count": 6,
     "metadata": {},
     "output_type": "execute_result"
    }
   ],
   "source": [
    "loader=TextLoader(\"speech.txt\")\n",
    "data=loader.load()\n",
    "data\n"
   ]
  },
  {
   "cell_type": "code",
   "execution_count": 8,
   "metadata": {},
   "outputs": [],
   "source": [
    "text_splitter=RecursiveCharacterTextSplitter(chunk_size=500,chunk_overlap=0)\n",
    "splits=text_splitter.split_documents(data)"
   ]
  },
  {
   "cell_type": "code",
   "execution_count": 9,
   "metadata": {},
   "outputs": [
    {
     "data": {
      "text/plain": [
       "[Document(metadata={'source': 'speech.txt'}, page_content='I have three visions for India. In 3000 years of our history people from all over the world have come and invaded us, captured our lands, conquered our minds. From Alexander onwards the Greeks, the Turks, the Moguls, the Portuguese, the British, the French, the Dutch, all of them came and looted us, took over what was ours. Yet we have not done this to any other nation.'),\n",
       " Document(metadata={'source': 'speech.txt'}, page_content='We have not conquered anyone. We have not grabbed their land, their culture and their history and tried to enforce our way of life on them. Why? Because we respect the freedom of others. That is why my FIRST VISION is that of FREEDOM. I believe that India got its first vision of this in 1857, when we started the war of Independence. It is this freedom that we must protect and nurture and build on. If we are not free, no one will respect us.'),\n",
       " Document(metadata={'source': 'speech.txt'}, page_content='We have 10 percent growth rate in most areas. Our poverty levels are falling. Our achievements are being globally recognised today. Yet we lack the self-confidence to see ourselves as a developed nation, self-reliant and self-assured. Isn’t this incorrect? MY SECOND VISION for India is DEVELOPMENT. For fifty years we have been a developing nation. It is time we see ourselves as a developed nation. We are among top five nations in the world in terms of GDP.'),\n",
       " Document(metadata={'source': 'speech.txt'}, page_content='I have a THIRD VISION. India must stand up to the world. Because I believe that unless India stands up to the world, no one will respect us. Only strength respects strength. We must be strong not only as a military power but also as an economic power. Both must go hand-in-hand. My good fortune was to have worked with three great minds. Dr.Vikram Sarabhai, of the Dept. of Space, Professor Satish Dhawan, who succeeded him and Dr. Brahm Prakash, father of nuclear material. I was lucky to have'),\n",
       " Document(metadata={'source': 'speech.txt'}, page_content='worked with all three of them closely and consider this the great opportunity of my life.'),\n",
       " Document(metadata={'source': 'speech.txt'}, page_content='I was in Hyderabad giving this lecture, when a 14 year-old girl asked me for my autograph. I asked her what her goal in life is. She replied: I want to live in a developed India. For her, you and I will have to build this developed India. You must proclaim India is not an underdeveloped nation; it is a highly developed nation.'),\n",
       " Document(metadata={'source': 'speech.txt'}, page_content='You say that our government is inefficient. You say that our laws are too old. You say that the municipality does not pick up the garbage. You say that the phones don’t work, the railways are a joke, the airline is the worst in the world, and mails never reach their destination. You say that our country has been fed to the dogs and is the absolute pits. You say, say and say. What do you do about it?'),\n",
       " Document(metadata={'source': 'speech.txt'}, page_content='Dear Indians, I am echoing J.F.Kennedy’s words to his fellow Americans to relate to Indians ……. “ASK WHAT WE CAN DO FOR INDIA AND DO WHAT HAS TO BE DONE TO MAKE INDIA WHAT AMERICA AND OTHER WESTERN COUNTRIES ARE TODAY.”'),\n",
       " Document(metadata={'source': 'speech.txt'}, page_content=\"Summary\\n'My Vision for India' is a speech delivered by India’s former President, Dr. A.P.J Abdul Kalam, in which he describes his three visions for India if it has to enter the comity of developed nations. He tries to make people realise their duties and motivate them to build a stronger India.\"),\n",
       " Document(metadata={'source': 'speech.txt'}, page_content='First vision: He recalls how India has, time and again, been looted by invaders. India, on the other hand, has never invaded any country because it respects the freedom of others. Modern India’s First War of Independence was fought in 1857. Having subsequently achieved independence, we need to protect this freedom, without which no one will respect us.'),\n",
       " Document(metadata={'source': 'speech.txt'}, page_content='Second vision: India is growing economically and the rate of poverty is declining. The 10% GDP growth rate is a healthy sign. But Dr. Kalam observed that Indians have failed to see themselves as a group of self-reliant people. He, however, wants to see India as a developed and not just a developing nation.\\n\\nThird vision: To see India strong, both economically and militarily, because people tend to respect those who are strong.'),\n",
       " Document(metadata={'source': 'speech.txt'}, page_content='Finally, India could become as great a nation as the United States of America or any European country if its people stop criticising their own government and other institutions. A change in attitude is required. Instead of complaining, people should participate in the process of development by resolving problems on their own')]"
      ]
     },
     "execution_count": 9,
     "metadata": {},
     "output_type": "execute_result"
    }
   ],
   "source": [
    "splits"
   ]
  },
  {
   "cell_type": "code",
   "execution_count": 11,
   "metadata": {},
   "outputs": [
    {
     "name": "stderr",
     "output_type": "stream",
     "text": [
      "C:\\Users\\chafl\\AppData\\Local\\Temp\\ipykernel_44288\\1463550534.py:1: LangChainDeprecationWarning: The class `OllamaEmbeddings` was deprecated in LangChain 0.3.1 and will be removed in 1.0.0. An updated version of the class exists in the :class:`~langchain-ollama package and should be used instead. To use it run `pip install -U :class:`~langchain-ollama` and import as `from :class:`~langchain_ollama import OllamaEmbeddings``.\n",
      "  embeddings=OllamaEmbeddings()\n"
     ]
    }
   ],
   "source": [
    "embeddings=OllamaEmbeddings()\n",
    "vectordb=Chroma.from_documents(documents=splits,embedding=embeddings)"
   ]
  },
  {
   "cell_type": "code",
   "execution_count": 14,
   "metadata": {},
   "outputs": [
    {
     "data": {
      "text/plain": [
       "[Document(metadata={'source': 'speech.txt'}, page_content='I was in Hyderabad giving this lecture, when a 14 year-old girl asked me for my autograph. I asked her what her goal in life is. She replied: I want to live in a developed India. For her, you and I will have to build this developed India. You must proclaim India is not an underdeveloped nation; it is a highly developed nation.'),\n",
       " Document(metadata={'source': 'speech.txt'}, page_content='I was in Hyderabad giving this lecture, when a 14 year-old girl asked me for my autograph. I asked her what her goal in life is. She replied: I want to live in a developed India. For her, you and I will have to build this developed India. You must proclaim India is not an underdeveloped nation; it is a highly developed nation.'),\n",
       " Document(metadata={'source': 'speech.txt'}, page_content='Second vision: India is growing economically and the rate of poverty is declining. The 10% GDP growth rate is a healthy sign. But Dr. Kalam observed that Indians have failed to see themselves as a group of self-reliant people. He, however, wants to see India as a developed and not just a developing nation.\\n\\nThird vision: To see India strong, both economically and militarily, because people tend to respect those who are strong.'),\n",
       " Document(metadata={'source': 'speech.txt'}, page_content='Second vision: India is growing economically and the rate of poverty is declining. The 10% GDP growth rate is a healthy sign. But Dr. Kalam observed that Indians have failed to see themselves as a group of self-reliant people. He, however, wants to see India as a developed and not just a developing nation.\\n\\nThird vision: To see India strong, both economically and militarily, because people tend to respect those who are strong.')]"
      ]
     },
     "execution_count": 14,
     "metadata": {},
     "output_type": "execute_result"
    }
   ],
   "source": [
    "query=\"what is vision about india\"\n",
    "docs=vectordb.similarity_search(query)\n",
    "docs\n"
   ]
  },
  {
   "cell_type": "code",
   "execution_count": 13,
   "metadata": {},
   "outputs": [],
   "source": [
    "vectordb=Chroma.from_documents(documents=splits,embedding=embeddings)"
   ]
  },
  {
   "cell_type": "code",
   "execution_count": null,
   "metadata": {},
   "outputs": [],
   "source": []
  }
 ],
 "metadata": {
  "kernelspec": {
   "display_name": "hello",
   "language": "python",
   "name": "python3"
  },
  "language_info": {
   "codemirror_mode": {
    "name": "ipython",
    "version": 3
   },
   "file_extension": ".py",
   "mimetype": "text/x-python",
   "name": "python",
   "nbconvert_exporter": "python",
   "pygments_lexer": "ipython3",
   "version": "3.12.0"
  }
 },
 "nbformat": 4,
 "nbformat_minor": 2
}
