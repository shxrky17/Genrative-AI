{
 "cells": [
  {
   "cell_type": "code",
   "execution_count": 29,
   "metadata": {},
   "outputs": [
    {
     "data": {
      "text/plain": [
       "True"
      ]
     },
     "execution_count": 29,
     "metadata": {},
     "output_type": "execute_result"
    }
   ],
   "source": [
    "import os\n",
    "from dotenv import load_dotenv\n",
    "load_dotenv()"
   ]
  },
  {
   "cell_type": "code",
   "execution_count": 30,
   "metadata": {},
   "outputs": [],
   "source": [
    "import openai"
   ]
  },
  {
   "cell_type": "code",
   "execution_count": 31,
   "metadata": {},
   "outputs": [],
   "source": [
    "groq_apikey=os.getenv(\"GROQ_API_KEY\")"
   ]
  },
  {
   "cell_type": "code",
   "execution_count": 32,
   "metadata": {},
   "outputs": [
    {
     "data": {
      "text/plain": [
       "'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'"
      ]
     },
     "execution_count": 32,
     "metadata": {},
     "output_type": "execute_result"
    }
   ],
   "source": [
    "groq_apikey"
   ]
  },
  {
   "cell_type": "code",
   "execution_count": 33,
   "metadata": {},
   "outputs": [],
   "source": [
    "from langchain_groq import ChatGroq\n",
    "model=ChatGroq(model=\"Gemma2-9b-It\",groq_api_key=groq_apikey)"
   ]
  },
  {
   "cell_type": "code",
   "execution_count": 34,
   "metadata": {},
   "outputs": [
    {
     "data": {
      "text/plain": [
       "ChatGroq(client=<groq.resources.chat.completions.Completions object at 0x000002692BA11040>, async_client=<groq.resources.chat.completions.AsyncCompletions object at 0x000002692BA10170>, model_name='Gemma2-9b-It', model_kwargs={}, groq_api_key=SecretStr('**********'))"
      ]
     },
     "execution_count": 34,
     "metadata": {},
     "output_type": "execute_result"
    }
   ],
   "source": [
    "model"
   ]
  },
  {
   "cell_type": "code",
   "execution_count": 35,
   "metadata": {},
   "outputs": [],
   "source": [
    "from langchain_core.messages import HumanMessage,SystemMessage\n",
    "\n",
    "messages=[\n",
    "    SystemMessage(content=\"Translate the following from English to Frenc\"),\n",
    "    HumanMessage(content=\"mi amour\")\n",
    "]\n",
    "\n",
    "res=model.invoke(messages)"
   ]
  },
  {
   "cell_type": "code",
   "execution_count": 36,
   "metadata": {},
   "outputs": [
    {
     "data": {
      "text/plain": [
       "'\"Mon amour\" \\n'"
      ]
     },
     "execution_count": 36,
     "metadata": {},
     "output_type": "execute_result"
    }
   ],
   "source": [
    "from langchain_core.output_parsers import StrOutputParser\n",
    "parser=StrOutputParser()\n",
    "parser.invoke(res)"
   ]
  },
  {
   "cell_type": "code",
   "execution_count": 37,
   "metadata": {},
   "outputs": [
    {
     "data": {
      "text/plain": [
       "'The French translation of \"mi amour\" is **\"mon amour\"**. \\n\\n\\nLet me know if you have any other phrases you\\'d like translated! \\n'"
      ]
     },
     "execution_count": 37,
     "metadata": {},
     "output_type": "execute_result"
    }
   ],
   "source": [
    "chain=model|parser\n",
    "chain.invoke(messages)"
   ]
  },
  {
   "cell_type": "code",
   "execution_count": 38,
   "metadata": {},
   "outputs": [],
   "source": [
    "from langchain_core.prompts import ChatPromptTemplate\n",
    "\n",
    "genric_template=\"tell car of this brand\"\n",
    "\n",
    "prompt=ChatPromptTemplate.from_messages(\n",
    "    [(\"system\",genric_template),(\"user\",\"{text}\")]\n",
    ")"
   ]
  },
  {
   "cell_type": "code",
   "execution_count": 39,
   "metadata": {},
   "outputs": [],
   "source": [
    "res=prompt.invoke({\"language\":\"French\",\"text\":\"hello\"})"
   ]
  },
  {
   "cell_type": "code",
   "execution_count": 40,
   "metadata": {},
   "outputs": [
    {
     "data": {
      "text/plain": [
       "[SystemMessage(content='tell car of this brand', additional_kwargs={}, response_metadata={}),\n",
       " HumanMessage(content='hello', additional_kwargs={}, response_metadata={})]"
      ]
     },
     "execution_count": 40,
     "metadata": {},
     "output_type": "execute_result"
    }
   ],
   "source": [
    "res.to_messages()"
   ]
  },
  {
   "cell_type": "code",
   "execution_count": 41,
   "metadata": {},
   "outputs": [],
   "source": [
    "chai=prompt|model|parser"
   ]
  },
  {
   "cell_type": "code",
   "execution_count": 43,
   "metadata": {},
   "outputs": [
    {
     "data": {
      "text/plain": [
       "\"The Toyota Supra is a legendary sports car known for its performance, handling, and iconic styling. Here's a breakdown of its key features and history:\\n\\n**History:**\\n\\n* **Origins (1978-1986):** The first-generation Supra was introduced in 1978 as a more luxurious and powerful version of the Celica. It gained popularity for its comfortable interior, powerful engines, and decent handling.\\n\\n* **Second Generation (1986-1992):**  The second-gen Supra saw significant improvements, including a more aerodynamic design, a larger engine range, and upgraded suspension. It became a cult classic, especially for its turbocharged 7M-GTE engine.\\n\\n* **Third Generation (1993-2002):** This generation, often considered the most iconic, featured a sleek, futuristic design and a powerful 2JZ-GTE engine that became legendary for its tunability.\\n\\n* **Fourth Generation (2019-Present):** After a 17-year hiatus, the Supra returned in 2019 with a modern design, a collaboration with BMW, and a powerful turbocharged engine. It aims to blend the Supra's heritage with contemporary performance.\\n\\n**Key Features:**\\n\\n* **Powerful Engines:**  Supras have always been known for their potent engines, ranging from naturally aspirated straight-sixes to twin-turbocharged options.\\n* **Rear-Wheel Drive:** This classic sports car layout provides excellent handling and a thrilling driving experience.\\n* **Agile Handling:**  Supras are designed to be nimble and responsive, with well-tuned suspension systems that deliver precise steering and cornering.\\n* **Striking Styling:**  From the classic lines of the A80 generation to the sharp, modern look of the current model, Supras have always turned heads.\\n\\n\\n**Things to Consider:**\\n\\n* **Price:**  Supras, especially older models in good condition, can be quite expensive.\\n* **Maintenance:** As with any performance car, maintenance costs can be higher than for more mainstream vehicles.\\n* **Parts Availability:**  While parts for the newer Supra are readily available, finding parts for older models may require more effort.\\n\\n\\nOverall, the Toyota Supra is a thrilling sports car that offers a unique blend of performance, style, and heritage. It's a car that continues to captivate enthusiasts and leave a lasting impression.\\n\""
      ]
     },
     "execution_count": 43,
     "metadata": {},
     "output_type": "execute_result"
    }
   ],
   "source": [
    "chai.invoke({\"text\":\"toyota supra\"})"
   ]
  },
  {
   "cell_type": "code",
   "execution_count": null,
   "metadata": {},
   "outputs": [],
   "source": []
  }
 ],
 "metadata": {
  "kernelspec": {
   "display_name": "hello",
   "language": "python",
   "name": "python3"
  },
  "language_info": {
   "codemirror_mode": {
    "name": "ipython",
    "version": 3
   },
   "file_extension": ".py",
   "mimetype": "text/x-python",
   "name": "python",
   "nbconvert_exporter": "python",
   "pygments_lexer": "ipython3",
   "version": "3.12.0"
  }
 },
 "nbformat": 4,
 "nbformat_minor": 2
}
